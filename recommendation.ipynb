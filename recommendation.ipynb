{
 "cells": [
  {
   "cell_type": "code",
   "execution_count": 1,
   "id": "e8cf42af-7df2-43fe-8e09-fb571e9b0827",
   "metadata": {},
   "outputs": [],
   "source": [
    "import pandas as pd\n",
    "credits = pd.read_csv(\"Desktop/moviedataset/tmdb_5000_credits.csv\") \n",
    "movies = pd.read_csv(\"Desktop/moviedataset/tmdb_5000_movies.csv\") "
   ]
  },
  {
   "cell_type": "code",
   "execution_count": 2,
   "id": "08ad873a-8e91-4313-ace5-136ec7c07dce",
   "metadata": {},
   "outputs": [],
   "source": [
    "movie=movies.merge(credits, on=\"title\")"
   ]
  },
  {
   "cell_type": "code",
   "execution_count": 3,
   "id": "310e57c6-42ce-49a1-adc3-c0c65bb3343c",
   "metadata": {},
   "outputs": [
    {
     "data": {
      "text/plain": [
       "(4809, 23)"
      ]
     },
     "execution_count": 3,
     "metadata": {},
     "output_type": "execute_result"
    }
   ],
   "source": [
    "movie.shape"
   ]
  },
  {
   "cell_type": "code",
   "execution_count": 4,
   "id": "a7c6a4c6-0e05-4b47-aac0-c1eda2d0015d",
   "metadata": {},
   "outputs": [
    {
     "data": {
      "text/plain": [
       "Index(['budget', 'genres', 'homepage', 'id', 'keywords', 'original_language',\n",
       "       'original_title', 'overview', 'popularity', 'production_companies',\n",
       "       'production_countries', 'release_date', 'revenue', 'runtime',\n",
       "       'spoken_languages', 'status', 'tagline', 'title', 'vote_average',\n",
       "       'vote_count', 'movie_id', 'cast', 'crew'],\n",
       "      dtype='object')"
      ]
     },
     "execution_count": 4,
     "metadata": {},
     "output_type": "execute_result"
    }
   ],
   "source": [
    "movie.columns"
   ]
  },
  {
   "cell_type": "code",
   "execution_count": 5,
   "id": "61e4b3d6-be63-4efd-b6df-d6154c61193c",
   "metadata": {},
   "outputs": [],
   "source": [
    "movie=movie[['title','genres','cast','crew','overview']]"
   ]
  },
  {
   "cell_type": "code",
   "execution_count": 6,
   "id": "440d49c3-5f88-4763-8ead-86f872041f3c",
   "metadata": {},
   "outputs": [
    {
     "data": {
      "text/html": [
       "<div>\n",
       "<style scoped>\n",
       "    .dataframe tbody tr th:only-of-type {\n",
       "        vertical-align: middle;\n",
       "    }\n",
       "\n",
       "    .dataframe tbody tr th {\n",
       "        vertical-align: top;\n",
       "    }\n",
       "\n",
       "    .dataframe thead th {\n",
       "        text-align: right;\n",
       "    }\n",
       "</style>\n",
       "<table border=\"1\" class=\"dataframe\">\n",
       "  <thead>\n",
       "    <tr style=\"text-align: right;\">\n",
       "      <th></th>\n",
       "      <th>title</th>\n",
       "      <th>genres</th>\n",
       "      <th>cast</th>\n",
       "      <th>crew</th>\n",
       "      <th>overview</th>\n",
       "    </tr>\n",
       "  </thead>\n",
       "  <tbody>\n",
       "    <tr>\n",
       "      <th>0</th>\n",
       "      <td>Avatar</td>\n",
       "      <td>[{\"id\": 28, \"name\": \"Action\"}, {\"id\": 12, \"nam...</td>\n",
       "      <td>[{\"cast_id\": 242, \"character\": \"Jake Sully\", \"...</td>\n",
       "      <td>[{\"credit_id\": \"52fe48009251416c750aca23\", \"de...</td>\n",
       "      <td>In the 22nd century, a paraplegic Marine is di...</td>\n",
       "    </tr>\n",
       "    <tr>\n",
       "      <th>1</th>\n",
       "      <td>Pirates of the Caribbean: At World's End</td>\n",
       "      <td>[{\"id\": 12, \"name\": \"Adventure\"}, {\"id\": 14, \"...</td>\n",
       "      <td>[{\"cast_id\": 4, \"character\": \"Captain Jack Spa...</td>\n",
       "      <td>[{\"credit_id\": \"52fe4232c3a36847f800b579\", \"de...</td>\n",
       "      <td>Captain Barbossa, long believed to be dead, ha...</td>\n",
       "    </tr>\n",
       "    <tr>\n",
       "      <th>2</th>\n",
       "      <td>Spectre</td>\n",
       "      <td>[{\"id\": 28, \"name\": \"Action\"}, {\"id\": 12, \"nam...</td>\n",
       "      <td>[{\"cast_id\": 1, \"character\": \"James Bond\", \"cr...</td>\n",
       "      <td>[{\"credit_id\": \"54805967c3a36829b5002c41\", \"de...</td>\n",
       "      <td>A cryptic message from Bond’s past sends him o...</td>\n",
       "    </tr>\n",
       "    <tr>\n",
       "      <th>3</th>\n",
       "      <td>The Dark Knight Rises</td>\n",
       "      <td>[{\"id\": 28, \"name\": \"Action\"}, {\"id\": 80, \"nam...</td>\n",
       "      <td>[{\"cast_id\": 2, \"character\": \"Bruce Wayne / Ba...</td>\n",
       "      <td>[{\"credit_id\": \"52fe4781c3a36847f81398c3\", \"de...</td>\n",
       "      <td>Following the death of District Attorney Harve...</td>\n",
       "    </tr>\n",
       "    <tr>\n",
       "      <th>4</th>\n",
       "      <td>John Carter</td>\n",
       "      <td>[{\"id\": 28, \"name\": \"Action\"}, {\"id\": 12, \"nam...</td>\n",
       "      <td>[{\"cast_id\": 5, \"character\": \"John Carter\", \"c...</td>\n",
       "      <td>[{\"credit_id\": \"52fe479ac3a36847f813eaa3\", \"de...</td>\n",
       "      <td>John Carter is a war-weary, former military ca...</td>\n",
       "    </tr>\n",
       "    <tr>\n",
       "      <th>...</th>\n",
       "      <td>...</td>\n",
       "      <td>...</td>\n",
       "      <td>...</td>\n",
       "      <td>...</td>\n",
       "      <td>...</td>\n",
       "    </tr>\n",
       "    <tr>\n",
       "      <th>4804</th>\n",
       "      <td>El Mariachi</td>\n",
       "      <td>[{\"id\": 28, \"name\": \"Action\"}, {\"id\": 80, \"nam...</td>\n",
       "      <td>[{\"cast_id\": 1, \"character\": \"El Mariachi\", \"c...</td>\n",
       "      <td>[{\"credit_id\": \"52fe44eec3a36847f80b280b\", \"de...</td>\n",
       "      <td>El Mariachi just wants to play his guitar and ...</td>\n",
       "    </tr>\n",
       "    <tr>\n",
       "      <th>4805</th>\n",
       "      <td>Newlyweds</td>\n",
       "      <td>[{\"id\": 35, \"name\": \"Comedy\"}, {\"id\": 10749, \"...</td>\n",
       "      <td>[{\"cast_id\": 1, \"character\": \"Buzzy\", \"credit_...</td>\n",
       "      <td>[{\"credit_id\": \"52fe487dc3a368484e0fb013\", \"de...</td>\n",
       "      <td>A newlywed couple's honeymoon is upended by th...</td>\n",
       "    </tr>\n",
       "    <tr>\n",
       "      <th>4806</th>\n",
       "      <td>Signed, Sealed, Delivered</td>\n",
       "      <td>[{\"id\": 35, \"name\": \"Comedy\"}, {\"id\": 18, \"nam...</td>\n",
       "      <td>[{\"cast_id\": 8, \"character\": \"Oliver O\\u2019To...</td>\n",
       "      <td>[{\"credit_id\": \"52fe4df3c3a36847f8275ecf\", \"de...</td>\n",
       "      <td>\"Signed, Sealed, Delivered\" introduces a dedic...</td>\n",
       "    </tr>\n",
       "    <tr>\n",
       "      <th>4807</th>\n",
       "      <td>Shanghai Calling</td>\n",
       "      <td>[]</td>\n",
       "      <td>[{\"cast_id\": 3, \"character\": \"Sam\", \"credit_id...</td>\n",
       "      <td>[{\"credit_id\": \"52fe4ad9c3a368484e16a36b\", \"de...</td>\n",
       "      <td>When ambitious New York attorney Sam is sent t...</td>\n",
       "    </tr>\n",
       "    <tr>\n",
       "      <th>4808</th>\n",
       "      <td>My Date with Drew</td>\n",
       "      <td>[{\"id\": 99, \"name\": \"Documentary\"}]</td>\n",
       "      <td>[{\"cast_id\": 3, \"character\": \"Herself\", \"credi...</td>\n",
       "      <td>[{\"credit_id\": \"58ce021b9251415a390165d9\", \"de...</td>\n",
       "      <td>Ever since the second grade when he first saw ...</td>\n",
       "    </tr>\n",
       "  </tbody>\n",
       "</table>\n",
       "<p>4809 rows × 5 columns</p>\n",
       "</div>"
      ],
      "text/plain": [
       "                                         title  \\\n",
       "0                                       Avatar   \n",
       "1     Pirates of the Caribbean: At World's End   \n",
       "2                                      Spectre   \n",
       "3                        The Dark Knight Rises   \n",
       "4                                  John Carter   \n",
       "...                                        ...   \n",
       "4804                               El Mariachi   \n",
       "4805                                 Newlyweds   \n",
       "4806                 Signed, Sealed, Delivered   \n",
       "4807                          Shanghai Calling   \n",
       "4808                         My Date with Drew   \n",
       "\n",
       "                                                 genres  \\\n",
       "0     [{\"id\": 28, \"name\": \"Action\"}, {\"id\": 12, \"nam...   \n",
       "1     [{\"id\": 12, \"name\": \"Adventure\"}, {\"id\": 14, \"...   \n",
       "2     [{\"id\": 28, \"name\": \"Action\"}, {\"id\": 12, \"nam...   \n",
       "3     [{\"id\": 28, \"name\": \"Action\"}, {\"id\": 80, \"nam...   \n",
       "4     [{\"id\": 28, \"name\": \"Action\"}, {\"id\": 12, \"nam...   \n",
       "...                                                 ...   \n",
       "4804  [{\"id\": 28, \"name\": \"Action\"}, {\"id\": 80, \"nam...   \n",
       "4805  [{\"id\": 35, \"name\": \"Comedy\"}, {\"id\": 10749, \"...   \n",
       "4806  [{\"id\": 35, \"name\": \"Comedy\"}, {\"id\": 18, \"nam...   \n",
       "4807                                                 []   \n",
       "4808                [{\"id\": 99, \"name\": \"Documentary\"}]   \n",
       "\n",
       "                                                   cast  \\\n",
       "0     [{\"cast_id\": 242, \"character\": \"Jake Sully\", \"...   \n",
       "1     [{\"cast_id\": 4, \"character\": \"Captain Jack Spa...   \n",
       "2     [{\"cast_id\": 1, \"character\": \"James Bond\", \"cr...   \n",
       "3     [{\"cast_id\": 2, \"character\": \"Bruce Wayne / Ba...   \n",
       "4     [{\"cast_id\": 5, \"character\": \"John Carter\", \"c...   \n",
       "...                                                 ...   \n",
       "4804  [{\"cast_id\": 1, \"character\": \"El Mariachi\", \"c...   \n",
       "4805  [{\"cast_id\": 1, \"character\": \"Buzzy\", \"credit_...   \n",
       "4806  [{\"cast_id\": 8, \"character\": \"Oliver O\\u2019To...   \n",
       "4807  [{\"cast_id\": 3, \"character\": \"Sam\", \"credit_id...   \n",
       "4808  [{\"cast_id\": 3, \"character\": \"Herself\", \"credi...   \n",
       "\n",
       "                                                   crew  \\\n",
       "0     [{\"credit_id\": \"52fe48009251416c750aca23\", \"de...   \n",
       "1     [{\"credit_id\": \"52fe4232c3a36847f800b579\", \"de...   \n",
       "2     [{\"credit_id\": \"54805967c3a36829b5002c41\", \"de...   \n",
       "3     [{\"credit_id\": \"52fe4781c3a36847f81398c3\", \"de...   \n",
       "4     [{\"credit_id\": \"52fe479ac3a36847f813eaa3\", \"de...   \n",
       "...                                                 ...   \n",
       "4804  [{\"credit_id\": \"52fe44eec3a36847f80b280b\", \"de...   \n",
       "4805  [{\"credit_id\": \"52fe487dc3a368484e0fb013\", \"de...   \n",
       "4806  [{\"credit_id\": \"52fe4df3c3a36847f8275ecf\", \"de...   \n",
       "4807  [{\"credit_id\": \"52fe4ad9c3a368484e16a36b\", \"de...   \n",
       "4808  [{\"credit_id\": \"58ce021b9251415a390165d9\", \"de...   \n",
       "\n",
       "                                               overview  \n",
       "0     In the 22nd century, a paraplegic Marine is di...  \n",
       "1     Captain Barbossa, long believed to be dead, ha...  \n",
       "2     A cryptic message from Bond’s past sends him o...  \n",
       "3     Following the death of District Attorney Harve...  \n",
       "4     John Carter is a war-weary, former military ca...  \n",
       "...                                                 ...  \n",
       "4804  El Mariachi just wants to play his guitar and ...  \n",
       "4805  A newlywed couple's honeymoon is upended by th...  \n",
       "4806  \"Signed, Sealed, Delivered\" introduces a dedic...  \n",
       "4807  When ambitious New York attorney Sam is sent t...  \n",
       "4808  Ever since the second grade when he first saw ...  \n",
       "\n",
       "[4809 rows x 5 columns]"
      ]
     },
     "execution_count": 6,
     "metadata": {},
     "output_type": "execute_result"
    }
   ],
   "source": [
    "movie"
   ]
  },
  {
   "cell_type": "code",
   "execution_count": 7,
   "id": "e54d1d06-6a52-4e51-af09-0f4f591c7ee4",
   "metadata": {},
   "outputs": [
    {
     "data": {
      "text/plain": [
       "0"
      ]
     },
     "execution_count": 7,
     "metadata": {},
     "output_type": "execute_result"
    }
   ],
   "source": [
    "movie.duplicated().sum()"
   ]
  },
  {
   "cell_type": "code",
   "execution_count": 8,
   "id": "8c63b35b-752c-4d48-8299-4b61e5b2adbe",
   "metadata": {},
   "outputs": [],
   "source": [
    "import ast\n",
    "movie['genres'] = movie['genres'].apply(lambda x: ast.literal_eval(x))"
   ]
  },
  {
   "cell_type": "code",
   "execution_count": 9,
   "id": "10f89780-4ba1-4705-8785-ea7c78c50724",
   "metadata": {},
   "outputs": [
    {
     "data": {
      "text/plain": [
       "[{'id': 28, 'name': 'Action'},\n",
       " {'id': 12, 'name': 'Adventure'},\n",
       " {'id': 14, 'name': 'Fantasy'},\n",
       " {'id': 878, 'name': 'Science Fiction'}]"
      ]
     },
     "execution_count": 9,
     "metadata": {},
     "output_type": "execute_result"
    }
   ],
   "source": [
    "movie.genres[0]"
   ]
  },
  {
   "cell_type": "code",
   "execution_count": 10,
   "id": "0a7a83d3-b127-47cd-bc85-9536156b6653",
   "metadata": {},
   "outputs": [
    {
     "data": {
      "text/html": [
       "<div>\n",
       "<style scoped>\n",
       "    .dataframe tbody tr th:only-of-type {\n",
       "        vertical-align: middle;\n",
       "    }\n",
       "\n",
       "    .dataframe tbody tr th {\n",
       "        vertical-align: top;\n",
       "    }\n",
       "\n",
       "    .dataframe thead th {\n",
       "        text-align: right;\n",
       "    }\n",
       "</style>\n",
       "<table border=\"1\" class=\"dataframe\">\n",
       "  <thead>\n",
       "    <tr style=\"text-align: right;\">\n",
       "      <th></th>\n",
       "      <th>title</th>\n",
       "      <th>genres</th>\n",
       "      <th>cast</th>\n",
       "      <th>crew</th>\n",
       "      <th>overview</th>\n",
       "    </tr>\n",
       "  </thead>\n",
       "  <tbody>\n",
       "    <tr>\n",
       "      <th>0</th>\n",
       "      <td>Avatar</td>\n",
       "      <td>[Action, Adventure, Fantasy, Science Fiction]</td>\n",
       "      <td>[{\"cast_id\": 242, \"character\": \"Jake Sully\", \"...</td>\n",
       "      <td>[{\"credit_id\": \"52fe48009251416c750aca23\", \"de...</td>\n",
       "      <td>In the 22nd century, a paraplegic Marine is di...</td>\n",
       "    </tr>\n",
       "  </tbody>\n",
       "</table>\n",
       "</div>"
      ],
      "text/plain": [
       "    title                                         genres  \\\n",
       "0  Avatar  [Action, Adventure, Fantasy, Science Fiction]   \n",
       "\n",
       "                                                cast  \\\n",
       "0  [{\"cast_id\": 242, \"character\": \"Jake Sully\", \"...   \n",
       "\n",
       "                                                crew  \\\n",
       "0  [{\"credit_id\": \"52fe48009251416c750aca23\", \"de...   \n",
       "\n",
       "                                            overview  \n",
       "0  In the 22nd century, a paraplegic Marine is di...  "
      ]
     },
     "execution_count": 10,
     "metadata": {},
     "output_type": "execute_result"
    }
   ],
   "source": [
    "def extract_genres(genres_list):\n",
    "  genre_names = []\n",
    "  for genre in genres_list:\n",
    "    genre_names.append(genre['name'])\n",
    "  return genre_names\n",
    "\n",
    "movie['genres'] = movie['genres'].apply(extract_genres)\n",
    "movie.head(1)\n"
   ]
  },
  {
   "cell_type": "code",
   "execution_count": 11,
   "id": "c6f5ec0a-a0b2-47f0-8357-1119b4762024",
   "metadata": {},
   "outputs": [],
   "source": [
    "movie['cast'] = movie['cast'].apply(lambda x: ast.literal_eval(x))"
   ]
  },
  {
   "cell_type": "code",
   "execution_count": 12,
   "id": "4d87fcab-a0ea-470f-959b-10d78768d612",
   "metadata": {},
   "outputs": [
    {
     "data": {
      "text/html": [
       "<div>\n",
       "<style scoped>\n",
       "    .dataframe tbody tr th:only-of-type {\n",
       "        vertical-align: middle;\n",
       "    }\n",
       "\n",
       "    .dataframe tbody tr th {\n",
       "        vertical-align: top;\n",
       "    }\n",
       "\n",
       "    .dataframe thead th {\n",
       "        text-align: right;\n",
       "    }\n",
       "</style>\n",
       "<table border=\"1\" class=\"dataframe\">\n",
       "  <thead>\n",
       "    <tr style=\"text-align: right;\">\n",
       "      <th></th>\n",
       "      <th>title</th>\n",
       "      <th>genres</th>\n",
       "      <th>cast</th>\n",
       "      <th>crew</th>\n",
       "      <th>overview</th>\n",
       "    </tr>\n",
       "  </thead>\n",
       "  <tbody>\n",
       "    <tr>\n",
       "      <th>0</th>\n",
       "      <td>Avatar</td>\n",
       "      <td>[Action, Adventure, Fantasy, Science Fiction]</td>\n",
       "      <td>[Sam Worthington, Zoe Saldana, Sigourney Weave...</td>\n",
       "      <td>[{\"credit_id\": \"52fe48009251416c750aca23\", \"de...</td>\n",
       "      <td>In the 22nd century, a paraplegic Marine is di...</td>\n",
       "    </tr>\n",
       "  </tbody>\n",
       "</table>\n",
       "</div>"
      ],
      "text/plain": [
       "    title                                         genres  \\\n",
       "0  Avatar  [Action, Adventure, Fantasy, Science Fiction]   \n",
       "\n",
       "                                                cast  \\\n",
       "0  [Sam Worthington, Zoe Saldana, Sigourney Weave...   \n",
       "\n",
       "                                                crew  \\\n",
       "0  [{\"credit_id\": \"52fe48009251416c750aca23\", \"de...   \n",
       "\n",
       "                                            overview  \n",
       "0  In the 22nd century, a paraplegic Marine is di...  "
      ]
     },
     "execution_count": 12,
     "metadata": {},
     "output_type": "execute_result"
    }
   ],
   "source": [
    "def extract_cast(cast_list):\n",
    "  cast_names = []\n",
    "  for actor in cast_list:\n",
    "    cast_names.append(actor['name'])\n",
    "  return cast_names\n",
    "\n",
    "movie['cast'] = movie['cast'].apply(extract_cast)\n",
    "movie.head(1)"
   ]
  },
  {
   "cell_type": "code",
   "execution_count": 13,
   "id": "c5886be2-9030-4b96-a34d-a09a27f8fbc5",
   "metadata": {},
   "outputs": [],
   "source": [
    "movie['crew'] = movie['crew'].apply(lambda x: ast.literal_eval(x))"
   ]
  },
  {
   "cell_type": "code",
   "execution_count": 14,
   "id": "77615d30-be84-405d-bb8a-6d1a89604588",
   "metadata": {},
   "outputs": [
    {
     "data": {
      "text/html": [
       "<div>\n",
       "<style scoped>\n",
       "    .dataframe tbody tr th:only-of-type {\n",
       "        vertical-align: middle;\n",
       "    }\n",
       "\n",
       "    .dataframe tbody tr th {\n",
       "        vertical-align: top;\n",
       "    }\n",
       "\n",
       "    .dataframe thead th {\n",
       "        text-align: right;\n",
       "    }\n",
       "</style>\n",
       "<table border=\"1\" class=\"dataframe\">\n",
       "  <thead>\n",
       "    <tr style=\"text-align: right;\">\n",
       "      <th></th>\n",
       "      <th>title</th>\n",
       "      <th>genres</th>\n",
       "      <th>cast</th>\n",
       "      <th>crew</th>\n",
       "      <th>overview</th>\n",
       "    </tr>\n",
       "  </thead>\n",
       "  <tbody>\n",
       "    <tr>\n",
       "      <th>0</th>\n",
       "      <td>Avatar</td>\n",
       "      <td>[Action, Adventure, Fantasy, Science Fiction]</td>\n",
       "      <td>[Sam Worthington, Zoe Saldana, Sigourney Weave...</td>\n",
       "      <td>[Stephen E. Rivkin, Rick Carter, Christopher B...</td>\n",
       "      <td>In the 22nd century, a paraplegic Marine is di...</td>\n",
       "    </tr>\n",
       "  </tbody>\n",
       "</table>\n",
       "</div>"
      ],
      "text/plain": [
       "    title                                         genres  \\\n",
       "0  Avatar  [Action, Adventure, Fantasy, Science Fiction]   \n",
       "\n",
       "                                                cast  \\\n",
       "0  [Sam Worthington, Zoe Saldana, Sigourney Weave...   \n",
       "\n",
       "                                                crew  \\\n",
       "0  [Stephen E. Rivkin, Rick Carter, Christopher B...   \n",
       "\n",
       "                                            overview  \n",
       "0  In the 22nd century, a paraplegic Marine is di...  "
      ]
     },
     "execution_count": 14,
     "metadata": {},
     "output_type": "execute_result"
    }
   ],
   "source": [
    "def extract_crew(crew_list):\n",
    "  crew_names = []\n",
    "  for actor in crew_list:\n",
    "    crew_names.append(actor['name'])\n",
    "  return crew_names\n",
    "\n",
    "movie['crew'] = movie['crew'].apply(extract_crew)\n",
    "movie.head(1)"
   ]
  },
  {
   "cell_type": "code",
   "execution_count": 15,
   "id": "4e13b800-ff12-46c3-aa5e-31a025b978a0",
   "metadata": {},
   "outputs": [],
   "source": [
    "def shorten_cast(cast_list):\n",
    "  if len(cast_list) > 5:\n",
    "    return cast_list[:5]\n",
    "  else:\n",
    "    return cast_list\n",
    "\n",
    "movie['cast'] = movie['cast'].apply(shorten_cast)"
   ]
  },
  {
   "cell_type": "code",
   "execution_count": 16,
   "id": "550649e8-3d9a-4587-b2c7-8556ccc73e93",
   "metadata": {},
   "outputs": [],
   "source": [
    "def shorten_crew(crew_list):\n",
    "  if len(crew_list) > 5:\n",
    "    return crew_list[:5]\n",
    "  else:\n",
    "    return crew_list\n",
    "\n",
    "movie['crew'] = movie['crew'].apply(shorten_crew)"
   ]
  },
  {
   "cell_type": "code",
   "execution_count": 17,
   "id": "707ac599-6f08-4c56-9d1d-8c8b6424dc6c",
   "metadata": {},
   "outputs": [],
   "source": [
    "movie['metadata'] = movie['genres'] + movie['cast'] + movie['crew']"
   ]
  },
  {
   "cell_type": "code",
   "execution_count": 18,
   "id": "39e2f666-8b1d-4d14-91c7-6a7a69f7d732",
   "metadata": {
    "scrolled": true
   },
   "outputs": [
    {
     "data": {
      "text/html": [
       "<div>\n",
       "<style scoped>\n",
       "    .dataframe tbody tr th:only-of-type {\n",
       "        vertical-align: middle;\n",
       "    }\n",
       "\n",
       "    .dataframe tbody tr th {\n",
       "        vertical-align: top;\n",
       "    }\n",
       "\n",
       "    .dataframe thead th {\n",
       "        text-align: right;\n",
       "    }\n",
       "</style>\n",
       "<table border=\"1\" class=\"dataframe\">\n",
       "  <thead>\n",
       "    <tr style=\"text-align: right;\">\n",
       "      <th></th>\n",
       "      <th>title</th>\n",
       "      <th>genres</th>\n",
       "      <th>cast</th>\n",
       "      <th>crew</th>\n",
       "      <th>overview</th>\n",
       "      <th>metadata</th>\n",
       "    </tr>\n",
       "  </thead>\n",
       "  <tbody>\n",
       "    <tr>\n",
       "      <th>0</th>\n",
       "      <td>Avatar</td>\n",
       "      <td>[Action, Adventure, Fantasy, Science Fiction]</td>\n",
       "      <td>[Sam Worthington, Zoe Saldana, Sigourney Weave...</td>\n",
       "      <td>[Stephen E. Rivkin, Rick Carter, Christopher B...</td>\n",
       "      <td>In the 22nd century, a paraplegic Marine is di...</td>\n",
       "      <td>[Action, Adventure, Fantasy, Science Fiction, ...</td>\n",
       "    </tr>\n",
       "    <tr>\n",
       "      <th>1</th>\n",
       "      <td>Pirates of the Caribbean: At World's End</td>\n",
       "      <td>[Adventure, Fantasy, Action]</td>\n",
       "      <td>[Johnny Depp, Orlando Bloom, Keira Knightley, ...</td>\n",
       "      <td>[Dariusz Wolski, Gore Verbinski, Jerry Bruckhe...</td>\n",
       "      <td>Captain Barbossa, long believed to be dead, ha...</td>\n",
       "      <td>[Adventure, Fantasy, Action, Johnny Depp, Orla...</td>\n",
       "    </tr>\n",
       "    <tr>\n",
       "      <th>2</th>\n",
       "      <td>Spectre</td>\n",
       "      <td>[Action, Adventure, Crime]</td>\n",
       "      <td>[Daniel Craig, Christoph Waltz, Léa Seydoux, R...</td>\n",
       "      <td>[Thomas Newman, Sam Mendes, Anna Pinnock, John...</td>\n",
       "      <td>A cryptic message from Bond’s past sends him o...</td>\n",
       "      <td>[Action, Adventure, Crime, Daniel Craig, Chris...</td>\n",
       "    </tr>\n",
       "    <tr>\n",
       "      <th>3</th>\n",
       "      <td>The Dark Knight Rises</td>\n",
       "      <td>[Action, Crime, Drama, Thriller]</td>\n",
       "      <td>[Christian Bale, Michael Caine, Gary Oldman, A...</td>\n",
       "      <td>[Hans Zimmer, Charles Roven, Christopher Nolan...</td>\n",
       "      <td>Following the death of District Attorney Harve...</td>\n",
       "      <td>[Action, Crime, Drama, Thriller, Christian Bal...</td>\n",
       "    </tr>\n",
       "    <tr>\n",
       "      <th>4</th>\n",
       "      <td>John Carter</td>\n",
       "      <td>[Action, Adventure, Science Fiction]</td>\n",
       "      <td>[Taylor Kitsch, Lynn Collins, Samantha Morton,...</td>\n",
       "      <td>[Andrew Stanton, Andrew Stanton, John Lasseter...</td>\n",
       "      <td>John Carter is a war-weary, former military ca...</td>\n",
       "      <td>[Action, Adventure, Science Fiction, Taylor Ki...</td>\n",
       "    </tr>\n",
       "    <tr>\n",
       "      <th>...</th>\n",
       "      <td>...</td>\n",
       "      <td>...</td>\n",
       "      <td>...</td>\n",
       "      <td>...</td>\n",
       "      <td>...</td>\n",
       "      <td>...</td>\n",
       "    </tr>\n",
       "    <tr>\n",
       "      <th>4804</th>\n",
       "      <td>El Mariachi</td>\n",
       "      <td>[Action, Crime, Thriller]</td>\n",
       "      <td>[Carlos Gallardo, Jaime de Hoyos, Peter Marqua...</td>\n",
       "      <td>[Robert Rodriguez, Robert Rodriguez, Robert Ro...</td>\n",
       "      <td>El Mariachi just wants to play his guitar and ...</td>\n",
       "      <td>[Action, Crime, Thriller, Carlos Gallardo, Jai...</td>\n",
       "    </tr>\n",
       "    <tr>\n",
       "      <th>4805</th>\n",
       "      <td>Newlyweds</td>\n",
       "      <td>[Comedy, Romance]</td>\n",
       "      <td>[Edward Burns, Kerry Bishé, Marsha Dietlein, C...</td>\n",
       "      <td>[Edward Burns, Edward Burns, Edward Burns, Wil...</td>\n",
       "      <td>A newlywed couple's honeymoon is upended by th...</td>\n",
       "      <td>[Comedy, Romance, Edward Burns, Kerry Bishé, M...</td>\n",
       "    </tr>\n",
       "    <tr>\n",
       "      <th>4806</th>\n",
       "      <td>Signed, Sealed, Delivered</td>\n",
       "      <td>[Comedy, Drama, Romance, TV Movie]</td>\n",
       "      <td>[Eric Mabius, Kristin Booth, Crystal Lowe, Geo...</td>\n",
       "      <td>[Carla Hetland, Harvey Kahn, Adam Sliwinski, M...</td>\n",
       "      <td>\"Signed, Sealed, Delivered\" introduces a dedic...</td>\n",
       "      <td>[Comedy, Drama, Romance, TV Movie, Eric Mabius...</td>\n",
       "    </tr>\n",
       "    <tr>\n",
       "      <th>4807</th>\n",
       "      <td>Shanghai Calling</td>\n",
       "      <td>[]</td>\n",
       "      <td>[Daniel Henney, Eliza Coupe, Bill Paxton, Alan...</td>\n",
       "      <td>[Daniel Hsia, Daniel Hsia]</td>\n",
       "      <td>When ambitious New York attorney Sam is sent t...</td>\n",
       "      <td>[Daniel Henney, Eliza Coupe, Bill Paxton, Alan...</td>\n",
       "    </tr>\n",
       "    <tr>\n",
       "      <th>4808</th>\n",
       "      <td>My Date with Drew</td>\n",
       "      <td>[Documentary]</td>\n",
       "      <td>[Drew Barrymore, Brian Herzlinger, Corey Feldm...</td>\n",
       "      <td>[Clark Peterson, Andrew Reimer, Brian Herzling...</td>\n",
       "      <td>Ever since the second grade when he first saw ...</td>\n",
       "      <td>[Documentary, Drew Barrymore, Brian Herzlinger...</td>\n",
       "    </tr>\n",
       "  </tbody>\n",
       "</table>\n",
       "<p>4809 rows × 6 columns</p>\n",
       "</div>"
      ],
      "text/plain": [
       "                                         title  \\\n",
       "0                                       Avatar   \n",
       "1     Pirates of the Caribbean: At World's End   \n",
       "2                                      Spectre   \n",
       "3                        The Dark Knight Rises   \n",
       "4                                  John Carter   \n",
       "...                                        ...   \n",
       "4804                               El Mariachi   \n",
       "4805                                 Newlyweds   \n",
       "4806                 Signed, Sealed, Delivered   \n",
       "4807                          Shanghai Calling   \n",
       "4808                         My Date with Drew   \n",
       "\n",
       "                                             genres  \\\n",
       "0     [Action, Adventure, Fantasy, Science Fiction]   \n",
       "1                      [Adventure, Fantasy, Action]   \n",
       "2                        [Action, Adventure, Crime]   \n",
       "3                  [Action, Crime, Drama, Thriller]   \n",
       "4              [Action, Adventure, Science Fiction]   \n",
       "...                                             ...   \n",
       "4804                      [Action, Crime, Thriller]   \n",
       "4805                              [Comedy, Romance]   \n",
       "4806             [Comedy, Drama, Romance, TV Movie]   \n",
       "4807                                             []   \n",
       "4808                                  [Documentary]   \n",
       "\n",
       "                                                   cast  \\\n",
       "0     [Sam Worthington, Zoe Saldana, Sigourney Weave...   \n",
       "1     [Johnny Depp, Orlando Bloom, Keira Knightley, ...   \n",
       "2     [Daniel Craig, Christoph Waltz, Léa Seydoux, R...   \n",
       "3     [Christian Bale, Michael Caine, Gary Oldman, A...   \n",
       "4     [Taylor Kitsch, Lynn Collins, Samantha Morton,...   \n",
       "...                                                 ...   \n",
       "4804  [Carlos Gallardo, Jaime de Hoyos, Peter Marqua...   \n",
       "4805  [Edward Burns, Kerry Bishé, Marsha Dietlein, C...   \n",
       "4806  [Eric Mabius, Kristin Booth, Crystal Lowe, Geo...   \n",
       "4807  [Daniel Henney, Eliza Coupe, Bill Paxton, Alan...   \n",
       "4808  [Drew Barrymore, Brian Herzlinger, Corey Feldm...   \n",
       "\n",
       "                                                   crew  \\\n",
       "0     [Stephen E. Rivkin, Rick Carter, Christopher B...   \n",
       "1     [Dariusz Wolski, Gore Verbinski, Jerry Bruckhe...   \n",
       "2     [Thomas Newman, Sam Mendes, Anna Pinnock, John...   \n",
       "3     [Hans Zimmer, Charles Roven, Christopher Nolan...   \n",
       "4     [Andrew Stanton, Andrew Stanton, John Lasseter...   \n",
       "...                                                 ...   \n",
       "4804  [Robert Rodriguez, Robert Rodriguez, Robert Ro...   \n",
       "4805  [Edward Burns, Edward Burns, Edward Burns, Wil...   \n",
       "4806  [Carla Hetland, Harvey Kahn, Adam Sliwinski, M...   \n",
       "4807                         [Daniel Hsia, Daniel Hsia]   \n",
       "4808  [Clark Peterson, Andrew Reimer, Brian Herzling...   \n",
       "\n",
       "                                               overview  \\\n",
       "0     In the 22nd century, a paraplegic Marine is di...   \n",
       "1     Captain Barbossa, long believed to be dead, ha...   \n",
       "2     A cryptic message from Bond’s past sends him o...   \n",
       "3     Following the death of District Attorney Harve...   \n",
       "4     John Carter is a war-weary, former military ca...   \n",
       "...                                                 ...   \n",
       "4804  El Mariachi just wants to play his guitar and ...   \n",
       "4805  A newlywed couple's honeymoon is upended by th...   \n",
       "4806  \"Signed, Sealed, Delivered\" introduces a dedic...   \n",
       "4807  When ambitious New York attorney Sam is sent t...   \n",
       "4808  Ever since the second grade when he first saw ...   \n",
       "\n",
       "                                               metadata  \n",
       "0     [Action, Adventure, Fantasy, Science Fiction, ...  \n",
       "1     [Adventure, Fantasy, Action, Johnny Depp, Orla...  \n",
       "2     [Action, Adventure, Crime, Daniel Craig, Chris...  \n",
       "3     [Action, Crime, Drama, Thriller, Christian Bal...  \n",
       "4     [Action, Adventure, Science Fiction, Taylor Ki...  \n",
       "...                                                 ...  \n",
       "4804  [Action, Crime, Thriller, Carlos Gallardo, Jai...  \n",
       "4805  [Comedy, Romance, Edward Burns, Kerry Bishé, M...  \n",
       "4806  [Comedy, Drama, Romance, TV Movie, Eric Mabius...  \n",
       "4807  [Daniel Henney, Eliza Coupe, Bill Paxton, Alan...  \n",
       "4808  [Documentary, Drew Barrymore, Brian Herzlinger...  \n",
       "\n",
       "[4809 rows x 6 columns]"
      ]
     },
     "execution_count": 18,
     "metadata": {},
     "output_type": "execute_result"
    }
   ],
   "source": [
    "movie"
   ]
  },
  {
   "cell_type": "code",
   "execution_count": 19,
   "id": "f9c2f540-154c-40f8-aeac-03e617df94fd",
   "metadata": {},
   "outputs": [],
   "source": [
    "moviee=movie[['title','genres','overview','metadata']]"
   ]
  },
  {
   "cell_type": "code",
   "execution_count": 20,
   "id": "1fa1d23b-dc05-41b2-bc93-b6b8e6dd831c",
   "metadata": {
    "scrolled": true
   },
   "outputs": [
    {
     "data": {
      "text/html": [
       "<div>\n",
       "<style scoped>\n",
       "    .dataframe tbody tr th:only-of-type {\n",
       "        vertical-align: middle;\n",
       "    }\n",
       "\n",
       "    .dataframe tbody tr th {\n",
       "        vertical-align: top;\n",
       "    }\n",
       "\n",
       "    .dataframe thead th {\n",
       "        text-align: right;\n",
       "    }\n",
       "</style>\n",
       "<table border=\"1\" class=\"dataframe\">\n",
       "  <thead>\n",
       "    <tr style=\"text-align: right;\">\n",
       "      <th></th>\n",
       "      <th>title</th>\n",
       "      <th>genres</th>\n",
       "      <th>overview</th>\n",
       "      <th>metadata</th>\n",
       "    </tr>\n",
       "  </thead>\n",
       "  <tbody>\n",
       "    <tr>\n",
       "      <th>0</th>\n",
       "      <td>Avatar</td>\n",
       "      <td>[Action, Adventure, Fantasy, Science Fiction]</td>\n",
       "      <td>In the 22nd century, a paraplegic Marine is di...</td>\n",
       "      <td>[Action, Adventure, Fantasy, Science Fiction, ...</td>\n",
       "    </tr>\n",
       "    <tr>\n",
       "      <th>1</th>\n",
       "      <td>Pirates of the Caribbean: At World's End</td>\n",
       "      <td>[Adventure, Fantasy, Action]</td>\n",
       "      <td>Captain Barbossa, long believed to be dead, ha...</td>\n",
       "      <td>[Adventure, Fantasy, Action, Johnny Depp, Orla...</td>\n",
       "    </tr>\n",
       "    <tr>\n",
       "      <th>2</th>\n",
       "      <td>Spectre</td>\n",
       "      <td>[Action, Adventure, Crime]</td>\n",
       "      <td>A cryptic message from Bond’s past sends him o...</td>\n",
       "      <td>[Action, Adventure, Crime, Daniel Craig, Chris...</td>\n",
       "    </tr>\n",
       "    <tr>\n",
       "      <th>3</th>\n",
       "      <td>The Dark Knight Rises</td>\n",
       "      <td>[Action, Crime, Drama, Thriller]</td>\n",
       "      <td>Following the death of District Attorney Harve...</td>\n",
       "      <td>[Action, Crime, Drama, Thriller, Christian Bal...</td>\n",
       "    </tr>\n",
       "    <tr>\n",
       "      <th>4</th>\n",
       "      <td>John Carter</td>\n",
       "      <td>[Action, Adventure, Science Fiction]</td>\n",
       "      <td>John Carter is a war-weary, former military ca...</td>\n",
       "      <td>[Action, Adventure, Science Fiction, Taylor Ki...</td>\n",
       "    </tr>\n",
       "    <tr>\n",
       "      <th>...</th>\n",
       "      <td>...</td>\n",
       "      <td>...</td>\n",
       "      <td>...</td>\n",
       "      <td>...</td>\n",
       "    </tr>\n",
       "    <tr>\n",
       "      <th>4804</th>\n",
       "      <td>El Mariachi</td>\n",
       "      <td>[Action, Crime, Thriller]</td>\n",
       "      <td>El Mariachi just wants to play his guitar and ...</td>\n",
       "      <td>[Action, Crime, Thriller, Carlos Gallardo, Jai...</td>\n",
       "    </tr>\n",
       "    <tr>\n",
       "      <th>4805</th>\n",
       "      <td>Newlyweds</td>\n",
       "      <td>[Comedy, Romance]</td>\n",
       "      <td>A newlywed couple's honeymoon is upended by th...</td>\n",
       "      <td>[Comedy, Romance, Edward Burns, Kerry Bishé, M...</td>\n",
       "    </tr>\n",
       "    <tr>\n",
       "      <th>4806</th>\n",
       "      <td>Signed, Sealed, Delivered</td>\n",
       "      <td>[Comedy, Drama, Romance, TV Movie]</td>\n",
       "      <td>\"Signed, Sealed, Delivered\" introduces a dedic...</td>\n",
       "      <td>[Comedy, Drama, Romance, TV Movie, Eric Mabius...</td>\n",
       "    </tr>\n",
       "    <tr>\n",
       "      <th>4807</th>\n",
       "      <td>Shanghai Calling</td>\n",
       "      <td>[]</td>\n",
       "      <td>When ambitious New York attorney Sam is sent t...</td>\n",
       "      <td>[Daniel Henney, Eliza Coupe, Bill Paxton, Alan...</td>\n",
       "    </tr>\n",
       "    <tr>\n",
       "      <th>4808</th>\n",
       "      <td>My Date with Drew</td>\n",
       "      <td>[Documentary]</td>\n",
       "      <td>Ever since the second grade when he first saw ...</td>\n",
       "      <td>[Documentary, Drew Barrymore, Brian Herzlinger...</td>\n",
       "    </tr>\n",
       "  </tbody>\n",
       "</table>\n",
       "<p>4809 rows × 4 columns</p>\n",
       "</div>"
      ],
      "text/plain": [
       "                                         title  \\\n",
       "0                                       Avatar   \n",
       "1     Pirates of the Caribbean: At World's End   \n",
       "2                                      Spectre   \n",
       "3                        The Dark Knight Rises   \n",
       "4                                  John Carter   \n",
       "...                                        ...   \n",
       "4804                               El Mariachi   \n",
       "4805                                 Newlyweds   \n",
       "4806                 Signed, Sealed, Delivered   \n",
       "4807                          Shanghai Calling   \n",
       "4808                         My Date with Drew   \n",
       "\n",
       "                                             genres  \\\n",
       "0     [Action, Adventure, Fantasy, Science Fiction]   \n",
       "1                      [Adventure, Fantasy, Action]   \n",
       "2                        [Action, Adventure, Crime]   \n",
       "3                  [Action, Crime, Drama, Thriller]   \n",
       "4              [Action, Adventure, Science Fiction]   \n",
       "...                                             ...   \n",
       "4804                      [Action, Crime, Thriller]   \n",
       "4805                              [Comedy, Romance]   \n",
       "4806             [Comedy, Drama, Romance, TV Movie]   \n",
       "4807                                             []   \n",
       "4808                                  [Documentary]   \n",
       "\n",
       "                                               overview  \\\n",
       "0     In the 22nd century, a paraplegic Marine is di...   \n",
       "1     Captain Barbossa, long believed to be dead, ha...   \n",
       "2     A cryptic message from Bond’s past sends him o...   \n",
       "3     Following the death of District Attorney Harve...   \n",
       "4     John Carter is a war-weary, former military ca...   \n",
       "...                                                 ...   \n",
       "4804  El Mariachi just wants to play his guitar and ...   \n",
       "4805  A newlywed couple's honeymoon is upended by th...   \n",
       "4806  \"Signed, Sealed, Delivered\" introduces a dedic...   \n",
       "4807  When ambitious New York attorney Sam is sent t...   \n",
       "4808  Ever since the second grade when he first saw ...   \n",
       "\n",
       "                                               metadata  \n",
       "0     [Action, Adventure, Fantasy, Science Fiction, ...  \n",
       "1     [Adventure, Fantasy, Action, Johnny Depp, Orla...  \n",
       "2     [Action, Adventure, Crime, Daniel Craig, Chris...  \n",
       "3     [Action, Crime, Drama, Thriller, Christian Bal...  \n",
       "4     [Action, Adventure, Science Fiction, Taylor Ki...  \n",
       "...                                                 ...  \n",
       "4804  [Action, Crime, Thriller, Carlos Gallardo, Jai...  \n",
       "4805  [Comedy, Romance, Edward Burns, Kerry Bishé, M...  \n",
       "4806  [Comedy, Drama, Romance, TV Movie, Eric Mabius...  \n",
       "4807  [Daniel Henney, Eliza Coupe, Bill Paxton, Alan...  \n",
       "4808  [Documentary, Drew Barrymore, Brian Herzlinger...  \n",
       "\n",
       "[4809 rows x 4 columns]"
      ]
     },
     "execution_count": 20,
     "metadata": {},
     "output_type": "execute_result"
    }
   ],
   "source": [
    "moviee"
   ]
  },
  {
   "cell_type": "code",
   "execution_count": 21,
   "id": "ba3d5290-c907-444d-9466-d772e666f318",
   "metadata": {},
   "outputs": [
    {
     "data": {
      "text/plain": [
       "['Action',\n",
       " 'Adventure',\n",
       " 'Fantasy',\n",
       " 'Science Fiction',\n",
       " 'Sam Worthington',\n",
       " 'Zoe Saldana',\n",
       " 'Sigourney Weaver',\n",
       " 'Stephen Lang',\n",
       " 'Michelle Rodriguez',\n",
       " 'Stephen E. Rivkin',\n",
       " 'Rick Carter',\n",
       " 'Christopher Boyes',\n",
       " 'Christopher Boyes',\n",
       " 'Mali Finn']"
      ]
     },
     "execution_count": 21,
     "metadata": {},
     "output_type": "execute_result"
    }
   ],
   "source": [
    "moviee.metadata[0]"
   ]
  },
  {
   "cell_type": "code",
   "execution_count": 22,
   "id": "6326511e-a0ed-4c56-aed4-8fd796ab01fe",
   "metadata": {},
   "outputs": [
    {
     "name": "stderr",
     "output_type": "stream",
     "text": [
      "C:\\Users\\pragy\\AppData\\Local\\Temp\\ipykernel_6476\\2296624711.py:1: SettingWithCopyWarning: \n",
      "A value is trying to be set on a copy of a slice from a DataFrame.\n",
      "Try using .loc[row_indexer,col_indexer] = value instead\n",
      "\n",
      "See the caveats in the documentation: https://pandas.pydata.org/pandas-docs/stable/user_guide/indexing.html#returning-a-view-versus-a-copy\n",
      "  moviee['metadata'] = moviee['metadata'].apply(lambda x: ' '.join(x))\n"
     ]
    }
   ],
   "source": [
    "moviee['metadata'] = moviee['metadata'].apply(lambda x: ' '.join(x))"
   ]
  },
  {
   "cell_type": "code",
   "execution_count": 23,
   "id": "507704ca-331f-4890-8880-aed99fc69c07",
   "metadata": {},
   "outputs": [
    {
     "name": "stderr",
     "output_type": "stream",
     "text": [
      "C:\\Users\\pragy\\AppData\\Local\\Temp\\ipykernel_6476\\3473802270.py:1: SettingWithCopyWarning: \n",
      "A value is trying to be set on a copy of a slice from a DataFrame.\n",
      "Try using .loc[row_indexer,col_indexer] = value instead\n",
      "\n",
      "See the caveats in the documentation: https://pandas.pydata.org/pandas-docs/stable/user_guide/indexing.html#returning-a-view-versus-a-copy\n",
      "  moviee['metadata']=moviee['metadata'].apply(lambda x:x.lower())\n"
     ]
    }
   ],
   "source": [
    "moviee['metadata']=moviee['metadata'].apply(lambda x:x.lower())"
   ]
  },
  {
   "cell_type": "code",
   "execution_count": 24,
   "id": "97980ca7-5251-431a-8822-7a1132422bdd",
   "metadata": {},
   "outputs": [],
   "source": [
    "pd.set_option('display.max_colwidth', 100)"
   ]
  },
  {
   "cell_type": "code",
   "execution_count": 25,
   "id": "d9284465-a249-4e4c-a94a-34d86a90ee29",
   "metadata": {},
   "outputs": [
    {
     "data": {
      "text/plain": [
       "title                                                                                                    Avatar\n",
       "genres                                                            [Action, Adventure, Fantasy, Science Fiction]\n",
       "overview    In the 22nd century, a paraplegic Marine is dispatched to the moon Pandora on a unique mission, ...\n",
       "metadata    action adventure fantasy science fiction sam worthington zoe saldana sigourney weaver stephen la...\n",
       "Name: 0, dtype: object"
      ]
     },
     "execution_count": 25,
     "metadata": {},
     "output_type": "execute_result"
    }
   ],
   "source": [
    "moviee.iloc[0]"
   ]
  },
  {
   "cell_type": "code",
   "execution_count": 26,
   "id": "0208fcef-794b-4d32-992f-877c79fe587c",
   "metadata": {},
   "outputs": [
    {
     "data": {
      "text/html": [
       "<div>\n",
       "<style scoped>\n",
       "    .dataframe tbody tr th:only-of-type {\n",
       "        vertical-align: middle;\n",
       "    }\n",
       "\n",
       "    .dataframe tbody tr th {\n",
       "        vertical-align: top;\n",
       "    }\n",
       "\n",
       "    .dataframe thead th {\n",
       "        text-align: right;\n",
       "    }\n",
       "</style>\n",
       "<table border=\"1\" class=\"dataframe\">\n",
       "  <thead>\n",
       "    <tr style=\"text-align: right;\">\n",
       "      <th></th>\n",
       "      <th>title</th>\n",
       "      <th>genres</th>\n",
       "      <th>overview</th>\n",
       "      <th>metadata</th>\n",
       "    </tr>\n",
       "  </thead>\n",
       "  <tbody>\n",
       "    <tr>\n",
       "      <th>0</th>\n",
       "      <td>Avatar</td>\n",
       "      <td>[Action, Adventure, Fantasy, Science Fiction]</td>\n",
       "      <td>In the 22nd century, a paraplegic Marine is dispatched to the moon Pandora on a unique mission, ...</td>\n",
       "      <td>action adventure fantasy science fiction sam worthington zoe saldana sigourney weaver stephen la...</td>\n",
       "    </tr>\n",
       "    <tr>\n",
       "      <th>1</th>\n",
       "      <td>Pirates of the Caribbean: At World's End</td>\n",
       "      <td>[Adventure, Fantasy, Action]</td>\n",
       "      <td>Captain Barbossa, long believed to be dead, has come back to life and is headed to the edge of t...</td>\n",
       "      <td>adventure fantasy action johnny depp orlando bloom keira knightley stellan skarsgård chow yun-fa...</td>\n",
       "    </tr>\n",
       "    <tr>\n",
       "      <th>2</th>\n",
       "      <td>Spectre</td>\n",
       "      <td>[Action, Adventure, Crime]</td>\n",
       "      <td>A cryptic message from Bond’s past sends him on a trail to uncover a sinister organization. Whil...</td>\n",
       "      <td>action adventure crime daniel craig christoph waltz léa seydoux ralph fiennes monica bellucci th...</td>\n",
       "    </tr>\n",
       "    <tr>\n",
       "      <th>3</th>\n",
       "      <td>The Dark Knight Rises</td>\n",
       "      <td>[Action, Crime, Drama, Thriller]</td>\n",
       "      <td>Following the death of District Attorney Harvey Dent, Batman assumes responsibility for Dent's c...</td>\n",
       "      <td>action crime drama thriller christian bale michael caine gary oldman anne hathaway tom hardy han...</td>\n",
       "    </tr>\n",
       "    <tr>\n",
       "      <th>4</th>\n",
       "      <td>John Carter</td>\n",
       "      <td>[Action, Adventure, Science Fiction]</td>\n",
       "      <td>John Carter is a war-weary, former military captain who's inexplicably transported to the myster...</td>\n",
       "      <td>action adventure science fiction taylor kitsch lynn collins samantha morton willem dafoe thomas ...</td>\n",
       "    </tr>\n",
       "    <tr>\n",
       "      <th>...</th>\n",
       "      <td>...</td>\n",
       "      <td>...</td>\n",
       "      <td>...</td>\n",
       "      <td>...</td>\n",
       "    </tr>\n",
       "    <tr>\n",
       "      <th>4804</th>\n",
       "      <td>El Mariachi</td>\n",
       "      <td>[Action, Crime, Thriller]</td>\n",
       "      <td>El Mariachi just wants to play his guitar and carry on the family tradition. Unfortunately, the ...</td>\n",
       "      <td>action crime thriller carlos gallardo jaime de hoyos peter marquardt reinol martinez ramiro gome...</td>\n",
       "    </tr>\n",
       "    <tr>\n",
       "      <th>4805</th>\n",
       "      <td>Newlyweds</td>\n",
       "      <td>[Comedy, Romance]</td>\n",
       "      <td>A newlywed couple's honeymoon is upended by the arrivals of their respective sisters.</td>\n",
       "      <td>comedy romance edward burns kerry bishé marsha dietlein caitlin fitzgerald daniella pineda edwar...</td>\n",
       "    </tr>\n",
       "    <tr>\n",
       "      <th>4806</th>\n",
       "      <td>Signed, Sealed, Delivered</td>\n",
       "      <td>[Comedy, Drama, Romance, TV Movie]</td>\n",
       "      <td>\"Signed, Sealed, Delivered\" introduces a dedicated quartet of civil servants in the Dead Letter ...</td>\n",
       "      <td>comedy drama romance tv movie eric mabius kristin booth crystal lowe geoff gustafson benjamin ho...</td>\n",
       "    </tr>\n",
       "    <tr>\n",
       "      <th>4807</th>\n",
       "      <td>Shanghai Calling</td>\n",
       "      <td>[]</td>\n",
       "      <td>When ambitious New York attorney Sam is sent to Shanghai on assignment, he immediately stumbles ...</td>\n",
       "      <td>daniel henney eliza coupe bill paxton alan ruck zhu shimao daniel hsia daniel hsia</td>\n",
       "    </tr>\n",
       "    <tr>\n",
       "      <th>4808</th>\n",
       "      <td>My Date with Drew</td>\n",
       "      <td>[Documentary]</td>\n",
       "      <td>Ever since the second grade when he first saw her in E.T. The Extraterrestrial, Brian Herzlinger...</td>\n",
       "      <td>documentary drew barrymore brian herzlinger corey feldman eric roberts griffin dunne clark peter...</td>\n",
       "    </tr>\n",
       "  </tbody>\n",
       "</table>\n",
       "<p>4809 rows × 4 columns</p>\n",
       "</div>"
      ],
      "text/plain": [
       "                                         title  \\\n",
       "0                                       Avatar   \n",
       "1     Pirates of the Caribbean: At World's End   \n",
       "2                                      Spectre   \n",
       "3                        The Dark Knight Rises   \n",
       "4                                  John Carter   \n",
       "...                                        ...   \n",
       "4804                               El Mariachi   \n",
       "4805                                 Newlyweds   \n",
       "4806                 Signed, Sealed, Delivered   \n",
       "4807                          Shanghai Calling   \n",
       "4808                         My Date with Drew   \n",
       "\n",
       "                                             genres  \\\n",
       "0     [Action, Adventure, Fantasy, Science Fiction]   \n",
       "1                      [Adventure, Fantasy, Action]   \n",
       "2                        [Action, Adventure, Crime]   \n",
       "3                  [Action, Crime, Drama, Thriller]   \n",
       "4              [Action, Adventure, Science Fiction]   \n",
       "...                                             ...   \n",
       "4804                      [Action, Crime, Thriller]   \n",
       "4805                              [Comedy, Romance]   \n",
       "4806             [Comedy, Drama, Romance, TV Movie]   \n",
       "4807                                             []   \n",
       "4808                                  [Documentary]   \n",
       "\n",
       "                                                                                                 overview  \\\n",
       "0     In the 22nd century, a paraplegic Marine is dispatched to the moon Pandora on a unique mission, ...   \n",
       "1     Captain Barbossa, long believed to be dead, has come back to life and is headed to the edge of t...   \n",
       "2     A cryptic message from Bond’s past sends him on a trail to uncover a sinister organization. Whil...   \n",
       "3     Following the death of District Attorney Harvey Dent, Batman assumes responsibility for Dent's c...   \n",
       "4     John Carter is a war-weary, former military captain who's inexplicably transported to the myster...   \n",
       "...                                                                                                   ...   \n",
       "4804  El Mariachi just wants to play his guitar and carry on the family tradition. Unfortunately, the ...   \n",
       "4805                A newlywed couple's honeymoon is upended by the arrivals of their respective sisters.   \n",
       "4806  \"Signed, Sealed, Delivered\" introduces a dedicated quartet of civil servants in the Dead Letter ...   \n",
       "4807  When ambitious New York attorney Sam is sent to Shanghai on assignment, he immediately stumbles ...   \n",
       "4808  Ever since the second grade when he first saw her in E.T. The Extraterrestrial, Brian Herzlinger...   \n",
       "\n",
       "                                                                                                 metadata  \n",
       "0     action adventure fantasy science fiction sam worthington zoe saldana sigourney weaver stephen la...  \n",
       "1     adventure fantasy action johnny depp orlando bloom keira knightley stellan skarsgård chow yun-fa...  \n",
       "2     action adventure crime daniel craig christoph waltz léa seydoux ralph fiennes monica bellucci th...  \n",
       "3     action crime drama thriller christian bale michael caine gary oldman anne hathaway tom hardy han...  \n",
       "4     action adventure science fiction taylor kitsch lynn collins samantha morton willem dafoe thomas ...  \n",
       "...                                                                                                   ...  \n",
       "4804  action crime thriller carlos gallardo jaime de hoyos peter marquardt reinol martinez ramiro gome...  \n",
       "4805  comedy romance edward burns kerry bishé marsha dietlein caitlin fitzgerald daniella pineda edwar...  \n",
       "4806  comedy drama romance tv movie eric mabius kristin booth crystal lowe geoff gustafson benjamin ho...  \n",
       "4807                   daniel henney eliza coupe bill paxton alan ruck zhu shimao daniel hsia daniel hsia  \n",
       "4808  documentary drew barrymore brian herzlinger corey feldman eric roberts griffin dunne clark peter...  \n",
       "\n",
       "[4809 rows x 4 columns]"
      ]
     },
     "execution_count": 26,
     "metadata": {},
     "output_type": "execute_result"
    }
   ],
   "source": [
    "moviee"
   ]
  },
  {
   "cell_type": "code",
   "execution_count": 27,
   "id": "bb49ac3e-ec9f-49a2-9408-e0c44c6b57e5",
   "metadata": {},
   "outputs": [],
   "source": [
    "from sklearn.feature_extraction.text import CountVectorizer\n",
    "cv = CountVectorizer(max_features=21,stop_words='english')"
   ]
  },
  {
   "cell_type": "code",
   "execution_count": 28,
   "id": "a041e542-ba47-449a-a0ce-f689a60f0678",
   "metadata": {
    "scrolled": true
   },
   "outputs": [
    {
     "name": "stderr",
     "output_type": "stream",
     "text": [
      "C:\\Users\\pragy\\AppData\\Local\\Temp\\ipykernel_6476\\1772969133.py:1: SettingWithCopyWarning: \n",
      "A value is trying to be set on a copy of a slice from a DataFrame.\n",
      "Try using .loc[row_indexer,col_indexer] = value instead\n",
      "\n",
      "See the caveats in the documentation: https://pandas.pydata.org/pandas-docs/stable/user_guide/indexing.html#returning-a-view-versus-a-copy\n",
      "  moviee['genres'] = moviee['genres'].apply(lambda x: ', '.join(x))\n"
     ]
    }
   ],
   "source": [
    "moviee['genres'] = moviee['genres'].apply(lambda x: ', '.join(x))"
   ]
  },
  {
   "cell_type": "code",
   "execution_count": 29,
   "id": "fee7cdf0-2295-4cd4-b763-21f42ab9988c",
   "metadata": {},
   "outputs": [
    {
     "data": {
      "text/plain": [
       "array([[1, 1, 0, ..., 0, 0, 0],\n",
       "       [1, 1, 0, ..., 0, 0, 0],\n",
       "       [1, 1, 0, ..., 0, 0, 0],\n",
       "       ...,\n",
       "       [0, 0, 0, ..., 1, 0, 0],\n",
       "       [0, 0, 0, ..., 0, 0, 0],\n",
       "       [0, 0, 0, ..., 0, 0, 0]], dtype=int64)"
      ]
     },
     "execution_count": 29,
     "metadata": {},
     "output_type": "execute_result"
    }
   ],
   "source": [
    "vectors=cv.fit_transform(moviee['genres']).toarray()\n",
    "vectors"
   ]
  },
  {
   "cell_type": "code",
   "execution_count": 30,
   "id": "66c48fd5-c053-446a-9bd4-ac726d6de81b",
   "metadata": {},
   "outputs": [
    {
     "data": {
      "text/plain": [
       "(4809, 21)"
      ]
     },
     "execution_count": 30,
     "metadata": {},
     "output_type": "execute_result"
    }
   ],
   "source": [
    "vectors.shape  #as 21 genres "
   ]
  },
  {
   "cell_type": "code",
   "execution_count": 31,
   "id": "8435520d-ff20-407e-8eff-fcf38c82b047",
   "metadata": {},
   "outputs": [],
   "source": [
    "from sklearn.metrics.pairwise import cosine_similarity  \n",
    "import numpy as np"
   ]
  },
  {
   "cell_type": "code",
   "execution_count": 32,
   "id": "dd0cbec2-100b-49ff-8ebe-476e2e70d27b",
   "metadata": {},
   "outputs": [],
   "source": [
    "similarity = cosine_similarity(vectors)"
   ]
  },
  {
   "cell_type": "code",
   "execution_count": 33,
   "id": "c6fd62fa-cb5f-414c-b872-887c1a165cdb",
   "metadata": {},
   "outputs": [
    {
     "data": {
      "text/plain": [
       "array([[1.        , 0.77459667, 0.51639778, ..., 0.        , 0.        ,\n",
       "        0.        ],\n",
       "       [0.77459667, 1.        , 0.66666667, ..., 0.        , 0.        ,\n",
       "        0.        ],\n",
       "       [0.51639778, 0.66666667, 1.        , ..., 0.        , 0.        ,\n",
       "        0.        ],\n",
       "       ...,\n",
       "       [0.        , 0.        , 0.        , ..., 1.        , 0.        ,\n",
       "        0.        ],\n",
       "       [0.        , 0.        , 0.        , ..., 0.        , 0.        ,\n",
       "        0.        ],\n",
       "       [0.        , 0.        , 0.        , ..., 0.        , 0.        ,\n",
       "        1.        ]])"
      ]
     },
     "execution_count": 33,
     "metadata": {},
     "output_type": "execute_result"
    }
   ],
   "source": [
    "similarity"
   ]
  },
  {
   "cell_type": "code",
   "execution_count": 34,
   "id": "dc060974-2610-4419-94c4-2585245ac7d8",
   "metadata": {},
   "outputs": [],
   "source": [
    "def recommend(movie):\n",
    "  index = moviee[moviee['title'] == movie].index[0]\n",
    "  distance = sorted(list(enumerate(similarity[index])), reverse=True, key=lambda x: x[1])\n",
    "  for i in distance[1:6]:\n",
    "    similarity_score = i[1]\n",
    "    recommended_movie = moviee.iloc[i[0]].title\n",
    "    print(f\"- {recommended_movie} (Similarity Score: {similarity_score:.2f})\") "
   ]
  },
  {
   "cell_type": "code",
   "execution_count": 35,
   "id": "e642f36b-2e1e-429f-b316-21fc329543ba",
   "metadata": {
    "scrolled": true
   },
   "outputs": [
    {
     "name": "stdout",
     "output_type": "stream",
     "text": [
      "- Superman Returns (Similarity Score: 1.00)\n",
      "- Man of Steel (Similarity Score: 1.00)\n",
      "- X-Men: Days of Future Past (Similarity Score: 1.00)\n",
      "- Jupiter Ascending (Similarity Score: 1.00)\n",
      "- The Wolverine (Similarity Score: 1.00)\n"
     ]
    }
   ],
   "source": [
    "recommend('Avatar')  "
   ]
  },
  {
   "cell_type": "code",
   "execution_count": 36,
   "id": "5dd072a3-89aa-42f3-9fa4-7987b4c74c51",
   "metadata": {},
   "outputs": [],
   "source": [
    "from sklearn.feature_extraction.text import TfidfVectorizer\n",
    "vectorizer = TfidfVectorizer(max_features=50, stop_words='english')"
   ]
  },
  {
   "cell_type": "code",
   "execution_count": 37,
   "id": "165f87ce-cd8c-4247-aa71-081a33451f83",
   "metadata": {},
   "outputs": [
    {
     "data": {
      "text/plain": [
       "array([[0.35832775, 0.41415053, 0.        , ..., 0.        , 0.        ,\n",
       "        0.        ],\n",
       "       [0.48058568, 0.55545464, 0.        , ..., 0.        , 0.        ,\n",
       "        0.        ],\n",
       "       [0.51325274, 0.5932108 , 0.        , ..., 0.        , 0.        ,\n",
       "        0.        ],\n",
       "       ...,\n",
       "       [0.        , 0.        , 0.        , ..., 0.66373979, 0.        ,\n",
       "        0.        ],\n",
       "       [0.        , 0.        , 0.        , ..., 0.        , 0.        ,\n",
       "        0.        ],\n",
       "       [0.        , 0.        , 0.        , ..., 0.        , 0.        ,\n",
       "        0.        ]])"
      ]
     },
     "execution_count": 37,
     "metadata": {},
     "output_type": "execute_result"
    }
   ],
   "source": [
    "vector=vectorizer.fit_transform(moviee['genres']).toarray()\n",
    "vector"
   ]
  },
  {
   "cell_type": "code",
   "execution_count": 38,
   "id": "ec0eb194-fc47-4401-8cd1-b801b92c0252",
   "metadata": {},
   "outputs": [
    {
     "data": {
      "text/plain": [
       "(4809, 22)"
      ]
     },
     "execution_count": 38,
     "metadata": {},
     "output_type": "execute_result"
    }
   ],
   "source": [
    "vector.shape  #as 21 genres "
   ]
  },
  {
   "cell_type": "code",
   "execution_count": 39,
   "id": "f5fb7a0e-c03d-485c-98d4-9616d3584448",
   "metadata": {},
   "outputs": [],
   "source": [
    "similarityy = cosine_similarity(vector)"
   ]
  },
  {
   "cell_type": "code",
   "execution_count": 40,
   "id": "5fe1e541-753f-4506-9588-afaaca1f2784",
   "metadata": {},
   "outputs": [
    {
     "data": {
      "text/plain": [
       "array([[1.        , 0.74560639, 0.42959127, ..., 0.        , 0.        ,\n",
       "        0.        ],\n",
       "       [0.74560639, 1.        , 0.57616361, ..., 0.        , 0.        ,\n",
       "        0.        ],\n",
       "       [0.42959127, 0.57616361, 1.        , ..., 0.        , 0.        ,\n",
       "        0.        ],\n",
       "       ...,\n",
       "       [0.        , 0.        , 0.        , ..., 1.        , 0.        ,\n",
       "        0.        ],\n",
       "       [0.        , 0.        , 0.        , ..., 0.        , 0.        ,\n",
       "        0.        ],\n",
       "       [0.        , 0.        , 0.        , ..., 0.        , 0.        ,\n",
       "        1.        ]])"
      ]
     },
     "execution_count": 40,
     "metadata": {},
     "output_type": "execute_result"
    }
   ],
   "source": [
    "similarityy"
   ]
  },
  {
   "cell_type": "code",
   "execution_count": 41,
   "id": "cffb4b27-7b00-4d63-bf6d-f5653286083d",
   "metadata": {},
   "outputs": [],
   "source": [
    "def recommend(movie):\n",
    "  index = moviee[moviee['title'] == movie].index[0]\n",
    "  distance = sorted(list(enumerate(similarityy[index])), reverse=True, key=lambda x: x[1])\n",
    "  for i in distance[1:6]:\n",
    "    similarity_score = i[1]\n",
    "    recommended_movie = moviee.iloc[i[0]].title\n",
    "    print(f\"- {recommended_movie} (Similarity Score: {similarity_score:.2f})\") "
   ]
  },
  {
   "cell_type": "code",
   "execution_count": 42,
   "id": "47b09529-f04e-4c93-9601-cfa5f9785eb0",
   "metadata": {},
   "outputs": [
    {
     "name": "stdout",
     "output_type": "stream",
     "text": [
      "- Avengers: Age of Ultron (Similarity Score: 1.00)\n",
      "- The Avengers (Similarity Score: 1.00)\n",
      "- Captain America: Civil War (Similarity Score: 1.00)\n",
      "- Iron Man 3 (Similarity Score: 1.00)\n",
      "- Transformers: Revenge of the Fallen (Similarity Score: 1.00)\n"
     ]
    }
   ],
   "source": [
    "recommend('The Avengers')  "
   ]
  },
  {
   "cell_type": "code",
   "execution_count": 43,
   "id": "ec97286d-5663-4f3a-a770-7e8bedd4b493",
   "metadata": {},
   "outputs": [],
   "source": [
    "import pickle"
   ]
  },
  {
   "cell_type": "code",
   "execution_count": 44,
   "id": "30e71c61-8f85-4589-a31f-2d932269ed89",
   "metadata": {},
   "outputs": [
    {
     "data": {
      "text/plain": [
       "array(['Avatar', \"Pirates of the Caribbean: At World's End\", 'Spectre',\n",
       "       ..., 'Signed, Sealed, Delivered', 'Shanghai Calling',\n",
       "       'My Date with Drew'], dtype=object)"
      ]
     },
     "execution_count": 44,
     "metadata": {},
     "output_type": "execute_result"
    }
   ],
   "source": [
    "moviee['title'].values"
   ]
  },
  {
   "cell_type": "code",
   "execution_count": 45,
   "id": "ca4912e6-6570-41c9-a3b6-01686d548ecf",
   "metadata": {},
   "outputs": [],
   "source": [
    "pickle.dump(similarity,open('similarity.pkl','wb'))"
   ]
  },
  {
   "cell_type": "code",
   "execution_count": 46,
   "id": "1a9e8aa8-7e32-45fc-a99c-b541053f5612",
   "metadata": {},
   "outputs": [],
   "source": [
    "pickle.dump(moviee.to_dict(),open('movie_dict.pkl','wb'))"
   ]
  }
 ],
 "metadata": {
  "kernelspec": {
   "display_name": "Python 3 (ipykernel)",
   "language": "python",
   "name": "python3"
  },
  "language_info": {
   "codemirror_mode": {
    "name": "ipython",
    "version": 3
   },
   "file_extension": ".py",
   "mimetype": "text/x-python",
   "name": "python",
   "nbconvert_exporter": "python",
   "pygments_lexer": "ipython3",
   "version": "3.11.7"
  }
 },
 "nbformat": 4,
 "nbformat_minor": 5
}
